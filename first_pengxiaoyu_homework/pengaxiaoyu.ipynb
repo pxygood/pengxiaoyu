{
 "cells": [
  {
   "cell_type": "code",
   "execution_count": 6,
   "id": "9fae6bff",
   "metadata": {},
   "outputs": [],
   "source": [
    "# import os\n",
    "# import shutil\n",
    "# shutil.move('./a/DOC 文档.doc', './b')"
   ]
  },
  {
   "cell_type": "code",
   "execution_count": 2,
   "id": "937f27d6",
   "metadata": {},
   "outputs": [],
   "source": [
    "# os.makedirs('./keweijie/p01/l01')  #新建文件夹"
   ]
  },
  {
   "cell_type": "code",
   "execution_count": 3,
   "id": "a13844b9",
   "metadata": {},
   "outputs": [
    {
     "data": {
      "text/plain": [
       "'./keweijie/p01/l01/attentive.bin'"
      ]
     },
     "execution_count": 3,
     "metadata": {},
     "output_type": "execute_result"
    }
   ],
   "source": [
    "#  shutil.copyfile('./keweijie/l01/p01/attentive.bin','./keweijie/p01/l01/attentive.bin')    #复制文件，注意引号内是"
   ]
  },
  {
   "cell_type": "code",
   "execution_count": 1,
   "id": "c84c349a",
   "metadata": {},
   "outputs": [
    {
     "name": "stdout",
     "output_type": "stream",
     "text": [
      "keweijie\n",
      "liuyang\n",
      "liyalun\n"
     ]
    }
   ],
   "source": [
    "# A = ['keweijie','liuyang','liyalun']\n",
    "# for index in range (len(A)):\n",
    "#     print('%s' % A[index])"
   ]
  },
  {
   "cell_type": "code",
   "execution_count": 8,
   "id": "880afc5c",
   "metadata": {},
   "outputs": [],
   "source": [
    "import os\n",
    "import shutil\n",
    "name = ['keweijie','liuyang','liyalun']\n",
    "p = ['p01','p02','p03','p04']\n",
    "l = ['l01','l02','l04']\n",
    "for A in range (len(name)):\n",
    "    for B in range (len(p)):\n",
    "        for C in range (len(l)):\n",
    "            os.makedirs(f'./作业/{name[A]}/{p[B]}/{l[C]}')\n",
    "            shutil.copyfile(f'./{name[A]}/{l[C]}/{p[B]}/attentive.bin',f'./作业/{name[A]}/{p[B]}/{l[C]}/attentive.bin')"
   ]
  }
 ],
 "metadata": {
  "kernelspec": {
   "display_name": "Python 3 (ipykernel)",
   "language": "python",
   "name": "python3"
  },
  "language_info": {
   "codemirror_mode": {
    "name": "ipython",
    "version": 3
   },
   "file_extension": ".py",
   "mimetype": "text/x-python",
   "name": "python",
   "nbconvert_exporter": "python",
   "pygments_lexer": "ipython3",
   "version": "3.8.10"
  }
 },
 "nbformat": 4,
 "nbformat_minor": 5
}
