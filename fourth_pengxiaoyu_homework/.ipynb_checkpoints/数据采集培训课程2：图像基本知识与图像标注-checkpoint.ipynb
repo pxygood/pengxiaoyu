{
 "cells": [
  {
   "cell_type": "markdown",
   "metadata": {},
   "source": [
    "**像素：**\n",
    "\n",
    "例子：\n",
    "![示意图](./pixel_example.jpeg)\n",
    "\n",
    "![示意图2](./pixel_example2.png)\n",
    "\n",
    "实质：\n",
    "很多带有颜色的小点\n",
    "![示意图3](./pixel.png)\n",
    "\n",
    "**分辨率:**\n",
    "1.图像分辨率\n",
    "   通常如果一幅图片是1920x1080，就是说图片长有1920个像素，宽有1080个像素，1920x1080=2073600，也就是说这个图片是200万像素的，其中1920x1080就是这个图片的分辨率。 \n",
    "2.屏幕分辨率\n",
    "   分辨率也是显示器的重要指标。PPI，就是\"Pixels Per Inch\"，每英寸像素数，也就是说手机屏幕的PPI越高，图像就越清晰\n",
    "\n",
    "\n",
    "**颜色：**\n",
    "在彩色图像中，图像可用一个二维矩阵表示，其中每个元素是RGB值，RGB每个占一个字节（8位），总共三个字节，每个字节取值范围是0-2^8(255)，也可以说是三通道的，分别是R,G,B，比如（255，0，0）代表红色，(0,255,0)代表绿色，(0,0,255)代表蓝色，其他颜色是这三个颜色的混合。\n",
    "\n",
    "在灰色图像中，每个元素只有单通道，即只有一个值。\n",
    "\n",
    "  **颜色空间**：\n",
    "\n",
    "RGB：\n",
    "![RGB](./rgb_space.png)\n",
    "\n",
    "![robot](./robot_example.png)\n",
    "![robot_r](./robot_red.png)\n",
    "![robot_g](./robot_green.png)\n",
    "![robot_b](./robot_blue.png)\n",
    "\n",
    "HSV:\n",
    "![hsv](./hsv_space.png)\n",
    "\n",
    "色调H，用角度度量，取值范围为0°～360°，从红色开始按逆时针方向计算，红色为0°，绿色为120°,蓝色为240°。\n",
    "\n",
    "饱和度S，由圆心里到外颜色逐渐变鲜艳。\n",
    "\n",
    "明度V，表示颜色明亮的程度，V越大，S能取的值也越大。\n",
    "\n",
    "其他： CMYK等\n",
    "\n",
    "![CMYK](./CMYK.jpeg)\n",
    "\n",
    "https://www.bilibili.com/video/BV1fF411P7c7/?spm_id_from=333.788.recommend_more_video.5&vd_source=f6d0c2758eea1e5f479321dd82fa5df8\n",
    "\n",
    "   **灰度，黑白(二值)**：\n",
    "![keji](./keji.jpeg)\n",
    "![keji_gray](./keji_gray.jpeg)\n",
    "   \n"
   ]
  },
  {
   "cell_type": "markdown",
   "metadata": {},
   "source": [
    "图像标注： Labelme 为例\n",
    "教程：\n",
    "https://www.bilibili.com/video/BV1xT4y1j7A9?spm_id_from=333.337.search-card.all.click\n",
    "labelme官方文档:\n",
    "https://github.com/wkentaro/labelme"
   ]
  },
  {
   "cell_type": "markdown",
   "metadata": {},
   "source": [
    "**Python 基础图像处理**\n",
    "\n",
    "常用库：\n",
    "```\n",
    "Pillow\n",
    "Opencv\n",
    "```\n",
    "\n",
    "Pillow安装：\n",
    "pip install pillow\n",
    "\n",
    "参考：\n",
    "https://blog.csdn.net/m0_59485658/article/details/124100448\n",
    "https://www.jb51.net/article/229453.htm"
   ]
  },
  {
   "cell_type": "code",
   "execution_count": 5,
   "metadata": {},
   "outputs": [
    {
     "name": "stderr",
     "output_type": "stream",
     "text": [
      "display display: Unable to load font (-*-helvetica-medium-r-normal--12-*-*-*-*-*-iso8859-1).\n"
     ]
    }
   ],
   "source": [
    "# 读取图片\n",
    "from PIL import Image\n",
    "\n",
    "image = Image.open(\"keji.jpeg\")\n",
    "image.show()"
   ]
  },
  {
   "cell_type": "code",
   "execution_count": 2,
   "metadata": {},
   "outputs": [
    {
     "name": "stdout",
     "output_type": "stream",
     "text": [
      "JPEG (1080, 1080) RGB\n"
     ]
    }
   ],
   "source": [
    "print(image.format, image.size, image.mode)"
   ]
  },
  {
   "cell_type": "code",
   "execution_count": 6,
   "metadata": {},
   "outputs": [
    {
     "name": "stdout",
     "output_type": "stream",
     "text": [
      "width:  1080\n",
      "height:  1080\n",
      "size:  (1080, 1080)\n",
      "mode:  RGB\n",
      "format:  JPEG\n",
      "category:  0\n",
      "readonly:  0\n",
      "info:  {'jfif': 257, 'jfif_version': (1, 1), 'jfif_unit': 0, 'jfif_density': (1, 1), 'photoshop': {1028: b'\\x1c\\x02(\\x00ZFBMD23000968010000f0410000a74b0000235500000ce40000135a0100dec50100bd430200a4b70200a3990300'}}\n"
     ]
    }
   ],
   "source": [
    "print('width: ', image.width)\n",
    "print('height: ', image.height)\n",
    "print('size: ', image.size)\n",
    "print('mode: ', image.mode)\n",
    "print('format: ', image.format)\n",
    "print('category: ', image.category)\n",
    "print('readonly: ', image.readonly)\n",
    "print('info: ', image.info)"
   ]
  },
  {
   "cell_type": "code",
   "execution_count": 7,
   "metadata": {},
   "outputs": [
    {
     "name": "stderr",
     "output_type": "stream",
     "text": [
      "display display: Unable to load font (-*-helvetica-medium-r-normal--12-*-*-*-*-*-iso8859-1).\n"
     ]
    }
   ],
   "source": [
    "im_g = image.convert('L')\n",
    "im_g.show()"
   ]
  },
  {
   "cell_type": "code",
   "execution_count": 8,
   "metadata": {},
   "outputs": [
    {
     "name": "stderr",
     "output_type": "stream",
     "text": [
      "display display: Unable to load font (-*-helvetica-medium-r-normal--12-*-*-*-*-*-iso8859-1).\n"
     ]
    }
   ],
   "source": [
    "im_b = image.convert('1')\n",
    "im_b.save('./keji_black.jpg', 'JPEG')\n",
    "im_b.show()"
   ]
  },
  {
   "cell_type": "markdown",
   "metadata": {},
   "source": [
    "L：8位像素，黑白\n",
    "\n",
    "P：9位像素，使用调色板映射到任何其他模式\n",
    "\n",
    "1：1位像素，黑白图像，存成8位像素\n",
    "\n",
    "RGB：3*8位像素，真彩\n",
    "\n",
    "RGBA：4*8位像素，真彩+透明通道\n",
    "\n",
    "CMYK：4*8位像素，印刷四色模式或彩色印刷模式\n",
    "\n",
    "YCbCr：3*8位像素，色彩视频格式\n",
    "\n",
    "I：32位整型像素\n",
    "\n",
    "F：33位浮点型像素\n"
   ]
  },
  {
   "cell_type": "code",
   "execution_count": 9,
   "metadata": {},
   "outputs": [
    {
     "name": "stderr",
     "output_type": "stream",
     "text": [
      "display display: Unable to load font (-*-helvetica-medium-r-normal--12-*-*-*-*-*-iso8859-1).\n"
     ]
    }
   ],
   "source": [
    "image_crop = image.crop(box=(300, 300, 800, 700))\n",
    "image_crop.show()"
   ]
  },
  {
   "cell_type": "code",
   "execution_count": 7,
   "metadata": {},
   "outputs": [],
   "source": [
    "image_resize = image.resize((100, 100))\n",
    "image_resize.show()"
   ]
  },
  {
   "cell_type": "code",
   "execution_count": 31,
   "metadata": {},
   "outputs": [
    {
     "name": "stdout",
     "output_type": "stream",
     "text": [
      "(1080, 1080, 3)\n"
     ]
    }
   ],
   "source": [
    "import numpy as np\n",
    "im = np.array(image)\n",
    "print(im.shape)"
   ]
  },
  {
   "cell_type": "code",
   "execution_count": 32,
   "metadata": {},
   "outputs": [],
   "source": [
    "image = Image.fromarray(im)\n",
    "image.show()"
   ]
  },
  {
   "cell_type": "code",
   "execution_count": 33,
   "metadata": {},
   "outputs": [],
   "source": [
    "r, g, b = im[:, :, 0], im[:, :, 1], im[:, :, 2]"
   ]
  },
  {
   "cell_type": "code",
   "execution_count": 34,
   "metadata": {},
   "outputs": [
    {
     "data": {
      "text/plain": [
       "(1080, 1080)"
      ]
     },
     "execution_count": 34,
     "metadata": {},
     "output_type": "execute_result"
    }
   ],
   "source": [
    "r.shape"
   ]
  },
  {
   "cell_type": "code",
   "execution_count": 35,
   "metadata": {},
   "outputs": [
    {
     "data": {
      "text/plain": [
       "(1080, 1080)"
      ]
     },
     "execution_count": 35,
     "metadata": {},
     "output_type": "execute_result"
    }
   ],
   "source": [
    "g.shape"
   ]
  },
  {
   "cell_type": "code",
   "execution_count": 36,
   "metadata": {},
   "outputs": [
    {
     "data": {
      "text/plain": [
       "(1080, 1080)"
      ]
     },
     "execution_count": 36,
     "metadata": {},
     "output_type": "execute_result"
    }
   ],
   "source": [
    "b.shape"
   ]
  },
  {
   "cell_type": "code",
   "execution_count": 37,
   "metadata": {},
   "outputs": [
    {
     "data": {
      "text/plain": [
       "array([[80, 80, 80, ..., 80, 80, 80],\n",
       "       [80, 80, 80, ..., 80, 80, 80],\n",
       "       [80, 80, 80, ..., 80, 80, 80],\n",
       "       ...,\n",
       "       [80, 80, 80, ..., 80, 80, 80],\n",
       "       [80, 80, 80, ..., 80, 80, 80],\n",
       "       [80, 80, 80, ..., 80, 80, 80]], dtype=uint8)"
      ]
     },
     "execution_count": 37,
     "metadata": {},
     "output_type": "execute_result"
    }
   ],
   "source": [
    "[255, 0, 0 , 255]"
   ]
  },
  {
   "cell_type": "code",
   "execution_count": null,
   "metadata": {},
   "outputs": [],
   "source": [
    "作业：\n",
    "1.熟悉labelme安装和基本用法\n",
    "2.练习作业 Image_and_labeling\\exercise\n",
    "  2.1 tracking文件夹内的DVS图像，用矩形框标注出人范围，框命名为person\n",
    "  2.2 cat文件夹内的猫咪图像，用多边形勾勒出猫咪轮廓边缘,多边形命名为cat\n",
    "  2.3 woman文件夹内的女生图像，仿照例图，标注出98个关键点，点命名为0-97"
   ]
  },
  {
   "cell_type": "code",
   "execution_count": null,
   "metadata": {},
   "outputs": [],
   "source": [
    "Python图像处理(Opencv)\n",
    "\n",
    "参考：https://www.jb51.net/article/209881.htm"
   ]
  },
  {
   "cell_type": "code",
   "execution_count": null,
   "metadata": {},
   "outputs": [],
   "source": [
    "opencv(python安装)：\n",
    "pip install opencv-python\n"
   ]
  },
  {
   "cell_type": "code",
   "execution_count": null,
   "metadata": {},
   "outputs": [],
   "source": [
    "# 常用操作\n",
    "\n",
    " # 读取图片\n",
    "im = cv2.imread('lena.jpg')\n",
    "\n",
    "#显示图片\n",
    "cv2.imshow('tmp', im) \n",
    "cv2.waitKey(0)\n",
    "\n",
    "#保存图片\n",
    "cv2.imwrite('lena_write.jpg', im)\n",
    "\n",
    "#图像尺寸\n",
    "shape = im.shape\n",
    "print(shape)\n",
    "\n",
    "#图像缩放\n",
    "img_resize_larger = cv2.resize(im,(shape[0]//2,shape[1]//2))\n",
    "img_resize_smaller = cv2.resize(im,(shape[0]*2,shape[1]*2))\n",
    "\n",
    "#图像裁剪\n",
    "im_crop = im[50:250, 120:300]\n",
    "\n",
    "#转化灰度\n",
    "img_gray = cv2.cvtColor(im,cv2.COLOR_BGR2GRAY)\n",
    "\n",
    "\n",
    "#画矩形\n",
    "cv2.rectangle(im,(100,300),(200,300),(255,0,255),2)\n",
    "\n",
    "#画圆形\n",
    "cv2.circle(im,(200,130),90,(255,255,0),2)\n",
    "\n",
    "#画线\n",
    "cv2.line(im,(110,260),(300,260),(0,255,0),3)\n",
    "\n",
    "#写字\n",
    "cv2.putText(im,\"HELLO\",(120,250),cv2.FONT_HERSHEY_COMPLEX,1,(255,255,255),2)\n",
    "\n",
    "# 遍历像素\n",
    "for i in range(im.shape[0]):\n",
    "    for j in range(im.shape[1]):\n",
    "        b, g, r = im[i, j].astype(np.int)\n",
    "        if b + g + r < 120:\n",
    "            im[i, j] = np.array([b+100, g+100, r+100], dtype=np.uint8)\n",
    "            \n",
    "    "
   ]
  },
  {
   "cell_type": "code",
   "execution_count": null,
   "metadata": {},
   "outputs": [],
   "source": [
    "本周培训课程图像处理部分课后作业：\n",
    "复习课上所讲内容，（课件还是放在162上，我稍后会更新）安装opencv-python库。\n",
    "读取lena图片并显示，图像分别放大，缩小，裁剪中间部分，转换为灰度图像，绘制圆圈，绘制矩形，绘制线，写字，分别保存。\n",
    "尝试给寸照换背景颜色或头发颜色(用自己照片加分，用我照片扣分， 多种颜色加分)。\n",
    "尝试将“通关密码”图像中的密码隐藏\n",
    "大家合理安排时间完成，完成后将代码和图像上传到github提交"
   ]
  }
 ],
 "metadata": {
  "kernelspec": {
   "display_name": "Python 3 (ipykernel)",
   "language": "python",
   "name": "python3"
  },
  "language_info": {
   "codemirror_mode": {
    "name": "ipython",
    "version": 3
   },
   "file_extension": ".py",
   "mimetype": "text/x-python",
   "name": "python",
   "nbconvert_exporter": "python",
   "pygments_lexer": "ipython3",
   "version": "3.8.10"
  }
 },
 "nbformat": 4,
 "nbformat_minor": 4
}
